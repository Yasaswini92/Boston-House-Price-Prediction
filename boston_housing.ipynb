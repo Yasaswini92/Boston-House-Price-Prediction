{
 "cells": [
  {
   "cell_type": "markdown",
   "metadata": {},
   "source": [
    "# Machine Learning Engineer Nanodegree\n",
    "## Model Evaluation & Validation\n",
    "## Project: Predicting Boston Housing Prices\n",
    "\n",
    "Welcome to the first project of the Machine Learning Engineer Nanodegree! In this notebook, some template code has already been provided for you, and you will need to implement additional functionality to successfully complete this project. You will not need to modify the included code beyond what is requested. Sections that begin with **'Implementation'** in the header indicate that the following block of code will require additional functionality which you must provide. Instructions will be provided for each section and the specifics of the implementation are marked in the code block with a 'TODO' statement. Please be sure to read the instructions carefully!\n",
    "\n",
    "In addition to implementing code, there will be questions that you must answer which relate to the project and your implementation. Each section where you will answer a question is preceded by a **'Question X'** header. Carefully read each question and provide thorough answers in the following text boxes that begin with **'Answer:'**. Your project submission will be evaluated based on your answers to each of the questions and the implementation you provide.  \n",
    "\n",
    ">**Note:** Code and Markdown cells can be executed using the **Shift + Enter** keyboard shortcut. In addition, Markdown cells can be edited by typically double-clicking the cell to enter edit mode."
   ]
  },
  {
   "cell_type": "markdown",
   "metadata": {},
   "source": [
    "## Getting Started\n",
    "In this project, you will evaluate the performance and predictive power of a model that has been trained and tested on data collected from homes in suburbs of Boston, Massachusetts. A model trained on this data that is seen as a *good fit* could then be used to make certain predictions about a home — in particular, its monetary value. This model would prove to be invaluable for someone like a real estate agent who could make use of such information on a daily basis.\n",
    "\n",
    "The dataset for this project originates from the [UCI Machine Learning Repository](https://archive.ics.uci.edu/ml/datasets/Housing). The Boston housing data was collected in 1978 and each of the 506 entries represent aggregated data about 14 features for homes from various suburbs in Boston, Massachusetts. For the purposes of this project, the following preprocessing steps have been made to the dataset:\n",
    "- 16 data points have an `'MEDV'` value of 50.0. These data points likely contain **missing or censored values** and have been removed.\n",
    "- 1 data point has an `'RM'` value of 8.78. This data point can be considered an **outlier** and has been removed.\n",
    "- The features `'RM'`, `'LSTAT'`, `'PTRATIO'`, and `'MEDV'` are essential. The remaining **non-relevant features** have been excluded.\n",
    "- The feature `'MEDV'` has been **multiplicatively scaled** to account for 35 years of market inflation.\n",
    "\n",
    "Run the code cell below to load the Boston housing dataset, along with a few of the necessary Python libraries required for this project. You will know the dataset loaded successfully if the size of the dataset is reported."
   ]
  },
  {
   "cell_type": "code",
   "execution_count": 2,
   "metadata": {},
   "outputs": [
    {
     "name": "stdout",
     "output_type": "stream",
     "text": [
      "Boston housing dataset has 489 data points with 4 variables each.\n"
     ]
    }
   ],
   "source": [
    "# Import libraries necessary for this project\n",
    "import numpy as np\n",
    "import pandas as pd\n",
    "from sklearn.model_selection import ShuffleSplit\n",
    "\n",
    "# Import supplementary visualizations code visuals.py\n",
    "import visuals as vs\n",
    "\n",
    "# Pretty display for notebooks\n",
    "%matplotlib inline\n",
    "\n",
    "# Load the Boston housing dataset\n",
    "data = pd.read_csv('housing.csv')\n",
    "prices = data['MEDV']\n",
    "features = data.drop('MEDV', axis = 1)\n",
    "    \n",
    "# Success\n",
    "print(\"Boston housing dataset has {} data points with {} variables each.\".format(*data.shape))"
   ]
  },
  {
   "cell_type": "markdown",
   "metadata": {},
   "source": [
    "## Data Exploration\n",
    "In this first section of this project, you will make a cursory investigation about the Boston housing data and provide your observations. Familiarizing yourself with the data through an explorative process is a fundamental practice to help you better understand and justify your results.\n",
    "\n",
    "Since the main goal of this project is to construct a working model which has the capability of predicting the value of houses, we will need to separate the dataset into **features** and the **target variable**. The **features**, `'RM'`, `'LSTAT'`, and `'PTRATIO'`, give us quantitative information about each data point. The **target variable**, `'MEDV'`, will be the variable we seek to predict. These are stored in `features` and `prices`, respectively."
   ]
  },
  {
   "cell_type": "markdown",
   "metadata": {},
   "source": [
    "### Implementation: Calculate Statistics\n",
    "For your very first coding implementation, you will calculate descriptive statistics about the Boston housing prices. Since `numpy` has already been imported for you, use this library to perform the necessary calculations. These statistics will be extremely important later on to analyze various prediction results from the constructed model.\n",
    "\n",
    "In the code cell below, you will need to implement the following:\n",
    "- Calculate the minimum, maximum, mean, median, and standard deviation of `'MEDV'`, which is stored in `prices`.\n",
    "  - Store each calculation in their respective variable."
   ]
  },
  {
   "cell_type": "code",
   "execution_count": 3,
   "metadata": {},
   "outputs": [
    {
     "name": "stdout",
     "output_type": "stream",
     "text": [
      "Statistics for Boston housing dataset:\n",
      "\n",
      "Minimum price: $105000.0\n",
      "Maximum price: $1024800.0\n",
      "Mean price: $454342.9447852761\n",
      "Median price $438900.0\n",
      "Standard deviation of prices: $165171.13154429474\n"
     ]
    }
   ],
   "source": [
    "# TODO: Minimum price of the data\n",
    "minimum_price = np.amin(np.array(data['MEDV']))\n",
    "\n",
    "# TODO: Maximum price of the data\n",
    "maximum_price = np.amax(np.array(data['MEDV']))\n",
    "\n",
    "# TODO: Mean price of the data\n",
    "mean_price = np.mean(np.array(data['MEDV']))\n",
    "\n",
    "# TODO: Median price of the data\n",
    "median_price = np.median(np.array(data['MEDV']))\n",
    "\n",
    "# TODO: Standard deviation of prices of the data\n",
    "std_price = np.std(np.array(data['MEDV']))\n",
    "\n",
    "# Show the calculated statistics\n",
    "print(\"Statistics for Boston housing dataset:\\n\")\n",
    "print(\"Minimum price: ${}\".format(minimum_price)) \n",
    "print(\"Maximum price: ${}\".format(maximum_price))\n",
    "print(\"Mean price: ${}\".format(mean_price))\n",
    "print(\"Median price ${}\".format(median_price))\n",
    "print(\"Standard deviation of prices: ${}\".format(std_price))"
   ]
  },
  {
   "cell_type": "markdown",
   "metadata": {},
   "source": [
    "### Question 1 - Feature Observation\n",
    "As a reminder, we are using three features from the Boston housing dataset: `'RM'`, `'LSTAT'`, and `'PTRATIO'`. For each data point (neighborhood):\n",
    "- `'RM'` is the average number of rooms among homes in the neighborhood.\n",
    "- `'LSTAT'` is the percentage of homeowners in the neighborhood considered \"lower class\" (working poor).\n",
    "- `'PTRATIO'` is the ratio of students to teachers in primary and secondary schools in the neighborhood.\n",
    "\n",
    "\n",
    "** Using your intuition, for each of the three features above, do you think that an increase in the value of that feature would lead to an **increase** in the value of `'MEDV'` or a **decrease** in the value of `'MEDV'`? Justify your answer for each.**\n",
    "\n",
    "**Hint:** This problem can phrased using examples like below.  \n",
    "* Would you expect a home that has an `'RM'` value(number of rooms) of 6 be worth more or less than a home that has an `'RM'` value of 7?\n",
    "* Would you expect a neighborhood that has an `'LSTAT'` value(percent of lower class workers) of 15 have home prices be worth more or less than a neighborhood that has an `'LSTAT'` value of 20?\n",
    "* Would you expect a neighborhood that has an `'PTRATIO'` value(ratio of students to teachers) of 10 have home prices be worth more or less than a neighborhood that has an `'PTRATIO'` value of 15?"
   ]
  },
  {
   "cell_type": "code",
   "execution_count": 4,
   "metadata": {},
   "outputs": [
    {
     "data": {
      "text/html": [
       "<div>\n",
       "<style scoped>\n",
       "    .dataframe tbody tr th:only-of-type {\n",
       "        vertical-align: middle;\n",
       "    }\n",
       "\n",
       "    .dataframe tbody tr th {\n",
       "        vertical-align: top;\n",
       "    }\n",
       "\n",
       "    .dataframe thead th {\n",
       "        text-align: right;\n",
       "    }\n",
       "</style>\n",
       "<table border=\"1\" class=\"dataframe\">\n",
       "  <thead>\n",
       "    <tr style=\"text-align: right;\">\n",
       "      <th></th>\n",
       "      <th>RM</th>\n",
       "      <th>LSTAT</th>\n",
       "      <th>PTRATIO</th>\n",
       "      <th>MEDV</th>\n",
       "    </tr>\n",
       "  </thead>\n",
       "  <tbody>\n",
       "    <tr>\n",
       "      <th>RM</th>\n",
       "      <td>1.000000</td>\n",
       "      <td>-0.612033</td>\n",
       "      <td>-0.304559</td>\n",
       "      <td>0.697209</td>\n",
       "    </tr>\n",
       "    <tr>\n",
       "      <th>LSTAT</th>\n",
       "      <td>-0.612033</td>\n",
       "      <td>1.000000</td>\n",
       "      <td>0.360445</td>\n",
       "      <td>-0.760670</td>\n",
       "    </tr>\n",
       "    <tr>\n",
       "      <th>PTRATIO</th>\n",
       "      <td>-0.304559</td>\n",
       "      <td>0.360445</td>\n",
       "      <td>1.000000</td>\n",
       "      <td>-0.519034</td>\n",
       "    </tr>\n",
       "    <tr>\n",
       "      <th>MEDV</th>\n",
       "      <td>0.697209</td>\n",
       "      <td>-0.760670</td>\n",
       "      <td>-0.519034</td>\n",
       "      <td>1.000000</td>\n",
       "    </tr>\n",
       "  </tbody>\n",
       "</table>\n",
       "</div>"
      ],
      "text/plain": [
       "               RM     LSTAT   PTRATIO      MEDV\n",
       "RM       1.000000 -0.612033 -0.304559  0.697209\n",
       "LSTAT   -0.612033  1.000000  0.360445 -0.760670\n",
       "PTRATIO -0.304559  0.360445  1.000000 -0.519034\n",
       "MEDV     0.697209 -0.760670 -0.519034  1.000000"
      ]
     },
     "execution_count": 4,
     "metadata": {},
     "output_type": "execute_result"
    }
   ],
   "source": [
    "data.corr()"
   ]
  },
  {
   "cell_type": "markdown",
   "metadata": {},
   "source": [
    "**Answer: ** \n",
    "\n",
    "Yes - \"MEDV\" increases/decreases with number of rooms RM. We observer a correlation of 0.697 between RM, MEDV infering this logic. It is also logical as the number of rooms signifies the area of house and hence the value.\n",
    "\n",
    "No - \"MEDV\" decreases with increase in LSTAT value and they are negatively correlated (-0.760). The lower the percentage of lower class signifies the affordability is low and property values are high there.\n",
    "\n",
    "No - \"MEDV\" seem to have a partial negative correlation (-0.519034) with \"PTRATIO\". Higher PTRATIO signifies low quality of education. People who can afford highe price houses usually send their children to low PTRATION schools to get better quality of education."
   ]
  },
  {
   "cell_type": "markdown",
   "metadata": {},
   "source": [
    "----\n",
    "\n",
    "## Developing a Model\n",
    "In this second section of the project, you will develop the tools and techniques necessary for a model to make a prediction. Being able to make accurate evaluations of each model's performance through the use of these tools and techniques helps to greatly reinforce the confidence in your predictions."
   ]
  },
  {
   "cell_type": "markdown",
   "metadata": {},
   "source": [
    "### Implementation: Define a Performance Metric\n",
    "It is difficult to measure the quality of a given model without quantifying its performance over training and testing. This is typically done using some type of performance metric, whether it is through calculating some type of error, the goodness of fit, or some other useful measurement. For this project, you will be calculating the [*coefficient of determination*](http://stattrek.com/statistics/dictionary.aspx?definition=coefficient_of_determination), R<sup>2</sup>, to quantify your model's performance. The coefficient of determination for a model is a useful statistic in regression analysis, as it often describes how \"good\" that model is at making predictions. \n",
    "\n",
    "The values for R<sup>2</sup> range from 0 to 1, which captures the percentage of squared correlation between the predicted and actual values of the **target variable**. A model with an R<sup>2</sup> of 0 is no better than a model that always predicts the *mean* of the target variable, whereas a model with an R<sup>2</sup> of 1 perfectly predicts the target variable. Any value between 0 and 1 indicates what percentage of the target variable, using this model, can be explained by the **features**. _A model can be given a negative R<sup>2</sup> as well, which indicates that the model is **arbitrarily worse** than one that always predicts the mean of the target variable._\n",
    "\n",
    "For the `performance_metric` function in the code cell below, you will need to implement the following:\n",
    "- Use `r2_score` from `sklearn.metrics` to perform a performance calculation between `y_true` and `y_predict`.\n",
    "- Assign the performance score to the `score` variable."
   ]
  },
  {
   "cell_type": "code",
   "execution_count": 5,
   "metadata": {
    "collapsed": true
   },
   "outputs": [],
   "source": [
    "# TODO: Import 'r2_score'\n",
    "from sklearn.metrics import r2_score\n",
    "\n",
    "def performance_metric(y_true, y_predict):\n",
    "    \"\"\" Calculates and returns the performance score between \n",
    "        true and predicted values based on the metric chosen. \"\"\"\n",
    "    \n",
    "    # TODO: Calculate the performance score between 'y_true' and 'y_predict'\n",
    "    score = r2_score(y_true, y_predict)\n",
    "    \n",
    "    # Return the score\n",
    "    return score"
   ]
  },
  {
   "cell_type": "markdown",
   "metadata": {},
   "source": [
    "### Question 2 - Goodness of Fit\n",
    "Assume that a dataset contains five data points and a model made the following predictions for the target variable:\n",
    "\n",
    "| True Value | Prediction |\n",
    "| :-------------: | :--------: |\n",
    "| 3.0 | 2.5 |\n",
    "| -0.5 | 0.0 |\n",
    "| 2.0 | 2.1 |\n",
    "| 7.0 | 7.8 |\n",
    "| 4.2 | 5.3 |\n",
    "\n",
    "Run the code cell below to use the `performance_metric` function and calculate this model's coefficient of determination."
   ]
  },
  {
   "cell_type": "code",
   "execution_count": 6,
   "metadata": {},
   "outputs": [
    {
     "name": "stdout",
     "output_type": "stream",
     "text": [
      "Model has a coefficient of determination, R^2, of 0.923.\n"
     ]
    }
   ],
   "source": [
    "# Calculate the performance of this model\n",
    "score = performance_metric([3, -0.5, 2, 7, 4.2], [2.5, 0.0, 2.1, 7.8, 5.3])\n",
    "print(\"Model has a coefficient of determination, R^2, of {:.3f}.\".format(score))"
   ]
  },
  {
   "cell_type": "markdown",
   "metadata": {},
   "source": [
    "* Would you consider this model to have successfully captured the variation of the target variable? \n",
    "* Why or why not?\n",
    "\n",
    "** Hint: **  The R2 score is the proportion of the variance in the dependent variable that is predictable from the independent variable. In other words:\n",
    "* R2 score of 0 means that the dependent variable cannot be predicted from the independent variable.\n",
    "* R2 score of 1 means the dependent variable can be predicted from the independent variable.\n",
    "* R2 score between 0 and 1 indicates the extent to which the dependent variable is predictable. An \n",
    "* R2 score of 0.40 means that 40 percent of the variance in Y is predictable from X."
   ]
  },
  {
   "cell_type": "code",
   "execution_count": 7,
   "metadata": {},
   "outputs": [
    {
     "name": "stdout",
     "output_type": "stream",
     "text": [
      "Regression SSE: 2.36\n",
      "Baseline SSE: 30.592\n",
      "R2Score: 0.922855648536\n"
     ]
    }
   ],
   "source": [
    "# general understanding of calculating R2 Score\n",
    "import numpy as np\n",
    "regression_SSE = np.sum(np.square(np.array([3, -0.5, 2, 7, 4.2]) - np.array([2.5, 0.0, 2.1, 7.8, 5.3])))\n",
    "print(\"Regression SSE:\", regression_SSE)\n",
    "baseline_SSE = np.sum(np.square(np.average([3, -0.5, 2, 7, 4.2]) - np.array([3, -0.5, 2, 7, 4.2])))\n",
    "print(\"Baseline SSE:\", baseline_SSE)\n",
    "R2Score = 1 - regression_SSE/baseline_SSE\n",
    "print(\"R2Score:\", R2Score)"
   ]
  },
  {
   "cell_type": "markdown",
   "metadata": {},
   "source": [
    "**Answer:** Yes, this model has successfully captured the variation of the target variable. Predictions made after a model fit can be evaluated using coefficient of determination which ranges from 0-1. The greater the R2 values signifies accurate regression solution. \n",
    "\n",
    "0.923 is a good R2 score to express confidence in the accuracy of model. \n",
    "\n",
    "SSE : Sum of Squared Errors\n",
    "\n",
    "R2 score = 1 - (SSE of Regression Model / SSE of Base Line model)\n",
    "\n",
    "Here: Regression SSE (2.360) < Baseline SSE (30.592) \n",
    "\n",
    "Models having R2 Score close to 1 signifies how much reach the model has brought from the worst performing baseline predictions. "
   ]
  },
  {
   "cell_type": "markdown",
   "metadata": {},
   "source": [
    "### Implementation: Shuffle and Split Data\n",
    "Your next implementation requires that you take the Boston housing dataset and split the data into training and testing subsets. Typically, the data is also shuffled into a random order when creating the training and testing subsets to remove any bias in the ordering of the dataset.\n",
    "\n",
    "For the code cell below, you will need to implement the following:\n",
    "- Use `train_test_split` from `sklearn.model_selection` to shuffle and split the `features` and `prices` data into training and testing sets.\n",
    "  - Split the data into 80% training and 20% testing.\n",
    "  - Set the `random_state` for `train_test_split` to a value of your choice. This ensures results are consistent.\n",
    "- Assign the train and testing splits to `X_train`, `X_test`, `y_train`, and `y_test`."
   ]
  },
  {
   "cell_type": "code",
   "execution_count": 8,
   "metadata": {},
   "outputs": [
    {
     "name": "stdout",
     "output_type": "stream",
     "text": [
      "Training and testing split was successful.\n"
     ]
    }
   ],
   "source": [
    "# TODO: Import 'train_test_split'\n",
    "from sklearn.model_selection import train_test_split\n",
    "\n",
    "# TODO: Shuffle and split the data into training and testing subsets\n",
    "X_train, X_test, y_train, y_test = train_test_split(features, prices, test_size=0.2, random_state=20)\n",
    "\n",
    "# Success\n",
    "print(\"Training and testing split was successful.\")"
   ]
  },
  {
   "cell_type": "markdown",
   "metadata": {},
   "source": [
    "### Question 3 - Training and Testing\n",
    "\n",
    "* What is the benefit to splitting a dataset into some ratio of training and testing subsets for a learning algorithm?\n",
    "\n",
    "**Hint:** Think about how overfitting or underfitting is contingent upon how splits on data is done."
   ]
  },
  {
   "cell_type": "markdown",
   "metadata": {},
   "source": [
    "**Answer: ** \n",
    "\n",
    "The goal of machine learning models is to generalize well from the training data to predict target variable. A right ratio of splitting of data is important to avoid two biggest problems, Overfitting and underfitting. \n",
    "\n",
    "Larger ratio of training data results an overfit model which learns the detail and noise in training data to an extend it negatively impacts performance of model on new data. \n",
    "\n",
    "Smaller ratio of training data results an underfit model which neighter model the training data not generalize to new data."
   ]
  },
  {
   "cell_type": "markdown",
   "metadata": {},
   "source": [
    "----\n",
    "\n",
    "## Analyzing Model Performance\n",
    "In this third section of the project, you'll take a look at several models' learning and testing performances on various subsets of training data. Additionally, you'll investigate one particular algorithm with an increasing `'max_depth'` parameter on the full training set to observe how model complexity affects performance. Graphing your model's performance based on varying criteria can be beneficial in the analysis process, such as visualizing behavior that may not have been apparent from the results alone."
   ]
  },
  {
   "cell_type": "markdown",
   "metadata": {},
   "source": [
    "### Learning Curves\n",
    "The following code cell produces four graphs for a decision tree model with different maximum depths. Each graph visualizes the learning curves of the model for both training and testing as the size of the training set is increased. Note that the shaded region of a learning curve denotes the uncertainty of that curve (measured as the standard deviation). The model is scored on both the training and testing sets using R<sup>2</sup>, the coefficient of determination.  \n",
    "\n",
    "Run the code cell below and use these graphs to answer the following question."
   ]
  },
  {
   "cell_type": "code",
   "execution_count": 9,
   "metadata": {
    "scrolled": false
   },
   "outputs": [
    {
     "data": {
      "image/png": "iVBORw0KGgoAAAANSUhEUgAAA0AAAAIKCAYAAAAK1y/8AAAABHNCSVQICAgIfAhkiAAAAAlwSFlz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\nB8jMzMzMzDrG/wDtHtgZCh1XzQAAAABJRU5ErkJggg==\n",
      "text/plain": [
       "<matplotlib.figure.Figure at 0x20c69eff668>"
      ]
     },
     "metadata": {},
     "output_type": "display_data"
    }
   ],
   "source": [
    "# Produce learning curves for varying training set sizes and maximum depths\n",
    "vs.ModelLearning(features, prices)"
   ]
  },
  {
   "cell_type": "markdown",
   "metadata": {},
   "source": [
    "### Question 4 - Learning the Data\n",
    "* Choose one of the graphs above and state the maximum depth for the model. \n",
    "* What happens to the score of the training curve as more training points are added? What about the testing curve? \n",
    "* Would having more training points benefit the model? \n",
    "\n",
    "**Hint:** Are the learning curves converging to particular scores? Generally speaking, the more data you have, the better. But if your training and testing curves are converging with a score above your benchmark threshold, would this be necessary?\n",
    "Think about the pros and cons of adding more training points based on if the training and testing curves are converging."
   ]
  },
  {
   "cell_type": "markdown",
   "metadata": {},
   "source": [
    "**Answer: **\n",
    "\n",
    "I will choose graphs with max_depth = 3. The R2 score of training, test data sets converge as the model learns with more training points and does not seem to either underfit (max_depth=1) and overfit (max_depth=6,10). Here the relative performance of test set is similar to training set perfomance.\n",
    "\n",
    "The score of training curve improves as more training points are added. The score of test curve reduces and follows to converge at level of training curve score for each number of training points.\n",
    "\n",
    "Yes, having more training points benefit the model to grasp many details. However, high bias models may not benefit from more training data. "
   ]
  },
  {
   "cell_type": "markdown",
   "metadata": {},
   "source": [
    "### Complexity Curves\n",
    "The following code cell produces a graph for a decision tree model that has been trained and validated on the training data using different maximum depths. The graph produces two complexity curves — one for training and one for validation. Similar to the **learning curves**, the shaded regions of both the complexity curves denote the uncertainty in those curves, and the model is scored on both the training and validation sets using the `performance_metric` function.  \n",
    "\n",
    "** Run the code cell below and use this graph to answer the following two questions Q5 and Q6. **"
   ]
  },
  {
   "cell_type": "code",
   "execution_count": 10,
   "metadata": {},
   "outputs": [
    {
     "data": {
      "image/png": "iVBORw0KGgoAAAANSUhEUgAAAb0AAAFNCAYAAACUvLFdAAAABHNCSVQICAgIfAhkiAAAAAlwSFlz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\n",
      "text/plain": [
       "<matplotlib.figure.Figure at 0x20c6b184e48>"
      ]
     },
     "metadata": {},
     "output_type": "display_data"
    }
   ],
   "source": [
    "vs.ModelComplexity(X_train, y_train)"
   ]
  },
  {
   "cell_type": "markdown",
   "metadata": {},
   "source": [
    "### Question 5 - Bias-Variance Tradeoff\n",
    "* When the model is trained with a maximum depth of 1, does the model suffer from high bias or from high variance? \n",
    "* How about when the model is trained with a maximum depth of 10? What visual cues in the graph justify your conclusions?\n",
    "\n",
    "**Hint:** High bias is a sign of underfitting(model is not complex enough to pick up the nuances in the data) and high variance is a sign of overfitting(model is by-hearting the data and cannot generalize well). Think about which model(depth 1 or 10) aligns with which part of the tradeoff."
   ]
  },
  {
   "cell_type": "markdown",
   "metadata": {},
   "source": [
    "**Answer: **\n",
    "\n",
    "At maximum depth of 1, the model suffers from high bias. Both, training and testing data failed to fit data with good accuracy and unable to generalize. However, the variance remains low.\n",
    "    \n",
    "At maximum depth of 10, the model suffers from high variance as there is a significant difference of training and testing R2 Scrore while trying to estimate for different sizes of data."
   ]
  },
  {
   "cell_type": "markdown",
   "metadata": {},
   "source": [
    "### Question 6 - Best-Guess Optimal Model\n",
    "* Which maximum depth do you think results in a model that best generalizes to unseen data? \n",
    "* What intuition lead you to this answer?\n",
    "\n",
    "** Hint: ** Look at the graph above Question 5 and see where the validation scores lie for the various depths that have been assigned to the model. Does it get better with increased depth? At what point do we get our best validation score without overcomplicating our model? And remember, Occams Razor states \"Among competing hypotheses, the one with the fewest assumptions should be selected.\""
   ]
  },
  {
   "cell_type": "markdown",
   "metadata": {},
   "source": [
    "**Answer: **\n",
    "\n",
    "At maximum depth 3 the model generalizes better.\n",
    "\n",
    "A better performing model should have low bias, low variance.\n",
    "\n",
    "High R2 Score for both training/test data signifies less bias. As higher the depth increases greater than 3 the validation score does not improve much on training data. Also, R2 Score on test data for depth > 3 is so greater than training data score which signifies overfit. So, it is better to stop at depth 3.\n",
    "\n",
    "As the R2 Scores converge for both training/test data signifies less variance at depth 3. At depth 1 they tend to converge at much lower R2 score which signifies less accuracy/underfit. If we increase depth > 3 then model is overlearning and hence high variance in train/test scores."
   ]
  },
  {
   "cell_type": "markdown",
   "metadata": {},
   "source": [
    "-----\n",
    "\n",
    "## Evaluating Model Performance\n",
    "In this final section of the project, you will construct a model and make a prediction on the client's feature set using an optimized model from `fit_model`."
   ]
  },
  {
   "cell_type": "markdown",
   "metadata": {},
   "source": [
    "### Question 7 - Grid Search\n",
    "* What is the grid search technique?\n",
    "* How it can be applied to optimize a learning algorithm?\n",
    "\n",
    "** Hint: ** When explaining the Grid Search technique, be sure to touch upon why it is used,  what the 'grid' entails and what the end goal of this method is. To solidify your answer, you can also give an example of a parameter in a model that can be optimized using this approach."
   ]
  },
  {
   "cell_type": "markdown",
   "metadata": {},
   "source": [
    "**Answer: **\n",
    "\n",
    "Machine learning model can require different constraints, weights or learning rates commonly called hyperparameters to generalize different data patterns. Grid-searching can be applied across machine learning to calculate the best parameters to use for any given model. It is computationally extensive as we try to develop model for all possible combinations of parameters.\n",
    "\n",
    "Grid-Search will build a model on each parameter combination possible. It iterates through every parameter combination and stores a model for each combination. Let us take an example of Decision tree\n",
    "\n",
    "Below is a simple example explaining the usage of Grid Search in Sklearn for data available. This explains at max_depth = 6 we see optimum results and supports earlier discussion."
   ]
  },
  {
   "cell_type": "code",
   "execution_count": 11,
   "metadata": {},
   "outputs": [
    {
     "name": "stdout",
     "output_type": "stream",
     "text": [
      "Best Model Score:  0.0230179028133\n",
      "Best Parameter Identified : {'criterion': 'entropy', 'max_depth': 1, 'splitter': 'random'}\n"
     ]
    }
   ],
   "source": [
    "# Example usage of Grid Search to derive optimum results in a Decision Tree Classifier\n",
    "\n",
    "import warnings\n",
    "warnings.filterwarnings(action=\"ignore\")\n",
    "\n",
    "from sklearn.model_selection import GridSearchCV\n",
    "from sklearn.tree import DecisionTreeClassifier\n",
    "\n",
    "model = DecisionTreeClassifier()\n",
    "maxDepth = [1,3,6,10]\n",
    "criterion = [\"entropy\", \"gini\"]\n",
    "splitter = [\"best\", \"random\"]\n",
    "\n",
    "parameterGrid = dict(max_depth=maxDepth, \n",
    "                     criterion=criterion,\n",
    "                     splitter=splitter)\n",
    "#?GridSearchCV\n",
    "gridSearch = None\n",
    "gridSearch = GridSearchCV(estimator=model, \n",
    "                          param_grid=parameterGrid)\n",
    "\n",
    "modelFit = gridSearch.fit(X_train, y_train)\n",
    "\n",
    "print(\"Best Model Score: \", modelFit.best_score_)\n",
    "print(\"Best Parameter Identified :\", modelFit.best_params_)"
   ]
  },
  {
   "cell_type": "markdown",
   "metadata": {},
   "source": [
    "### Question 8 - Cross-Validation\n",
    "\n",
    "* What is the k-fold cross-validation training technique? \n",
    "\n",
    "* What benefit does this technique provide for grid search when optimizing a model?\n",
    "\n",
    "**Hint:** When explaining the k-fold cross validation technique, be sure to touch upon what 'k' is, how the dataset is split into different parts for training and testing and the number of times it is run based on the 'k' value.\n",
    "\n",
    "When thinking about how k-fold cross validation helps grid search, think about the main drawbacks of grid search which are hinged upon **using a particular subset of data for training or testing** and how k-fold cv could help alleviate that. You can refer to the [docs](http://scikit-learn.org/stable/modules/cross_validation.html#cross-validation) for your answer."
   ]
  },
  {
   "cell_type": "markdown",
   "metadata": {},
   "source": [
    "**Answer: **\n",
    "\n",
    "Cross-Validation is a method to evaluate skill of a machine learning model. K-Folds CV refers to similar evaluation on subsets of original data which is divided into K equal parts.The prediction function is tested using K-1 number of groups/folds of data against remaining fold used for testing. \n",
    "\n",
    "Grid search uses only one validation set to evaluate the fit across multiple combination of parameters. Sometimes, it may overfit results for the particular set.\n",
    "\n",
    "Grid search along with K-Fold CV will be advantageous because we try to understand data better seeing smaller size of data and estimate hyperparameters using average of scores from multiple runs. This is a better way since we are not overoptimizing the hyperparameters."
   ]
  },
  {
   "cell_type": "markdown",
   "metadata": {},
   "source": [
    "### Implementation: Fitting a Model\n",
    "Your final implementation requires that you bring everything together and train a model using the **decision tree algorithm**. To ensure that you are producing an optimized model, you will train the model using the grid search technique to optimize the `'max_depth'` parameter for the decision tree. The `'max_depth'` parameter can be thought of as how many questions the decision tree algorithm is allowed to ask about the data before making a prediction. Decision trees are part of a class of algorithms called *supervised learning algorithms*.\n",
    "\n",
    "In addition, you will find your implementation is using `ShuffleSplit()` for an alternative form of cross-validation (see the `'cv_sets'` variable). While it is not the K-Fold cross-validation technique you describe in **Question 8**, this type of cross-validation technique is just as useful!. The `ShuffleSplit()` implementation below will create 10 (`'n_splits'`) shuffled sets, and for each shuffle, 20% (`'test_size'`) of the data will be used as the *validation set*. While you're working on your implementation, think about the contrasts and similarities it has to the K-fold cross-validation technique.\n",
    "\n",
    "For the `fit_model` function in the code cell below, you will need to implement the following:\n",
    "- Use [`DecisionTreeRegressor`](http://scikit-learn.org/stable/modules/generated/sklearn.tree.DecisionTreeRegressor.html) from `sklearn.tree` to create a decision tree regressor object.\n",
    "  - Assign this object to the `'regressor'` variable.\n",
    "- Create a dictionary for `'max_depth'` with the values from 1 to 10, and assign this to the `'params'` variable.\n",
    "- Use [`make_scorer`](http://scikit-learn.org/stable/modules/generated/sklearn.metrics.make_scorer.html) from `sklearn.metrics` to create a scoring function object.\n",
    "  - Pass the `performance_metric` function as a parameter to the object.\n",
    "  - Assign this scoring function to the `'scoring_fnc'` variable.\n",
    "- Use [`GridSearchCV`](http://scikit-learn.org/0.20/modules/generated/sklearn.model_selection.GridSearchCV.html) from `sklearn.model_selection` to create a grid search object.\n",
    "  - Pass the variables `'regressor'`, `'params'`, `'scoring_fnc'`, and `'cv_sets'` as parameters to the object. \n",
    "  - Assign the `GridSearchCV` object to the `'grid'` variable."
   ]
  },
  {
   "cell_type": "code",
   "execution_count": 12,
   "metadata": {
    "collapsed": true
   },
   "outputs": [],
   "source": [
    "# TODO: Import 'make_scorer', 'DecisionTreeRegressor', and 'GridSearchCV'\n",
    "\n",
    "from sklearn.metrics import make_scorer\n",
    "from sklearn.tree import DecisionTreeRegressor\n",
    "from sklearn.model_selection import GridSearchCV\n",
    "\n",
    "def fit_model(X, y):\n",
    "    \"\"\" Performs grid search over the 'max_depth' parameter for a \n",
    "        decision tree regressor trained on the input data [X, y]. \"\"\"\n",
    "    \n",
    "    # Create cross-validation sets from the training data\n",
    "    cv_sets = ShuffleSplit(n_splits = 10, test_size = 0.20, random_state = 0)\n",
    "\n",
    "    # TODO: Create a decision tree regressor object\n",
    "    regressor = DecisionTreeRegressor()\n",
    "\n",
    "    # TODO: Create a dictionary for the parameter 'max_depth' with a range from 1 to 10\n",
    "    params = {\"max_depth\": [1,2,3,4,5,6,7,8,9,10]}\n",
    "\n",
    "    # TODO: Transform 'performance_metric' into a scoring function using 'make_scorer' \n",
    "    scoring_fnc = make_scorer(performance_metric)\n",
    "\n",
    "    # TODO: Create the grid search cv object --> GridSearchCV()\n",
    "    # Make sure to include the right parameters in the object:\n",
    "    # (estimator, param_grid, scoring, cv) which have values 'regressor', 'params', 'scoring_fnc', and 'cv_sets' respectively.\n",
    "    grid = GridSearchCV(estimator=regressor, param_grid=params, scoring=scoring_fnc, cv=cv_sets)\n",
    "\n",
    "    # Fit the grid search object to the data to compute the optimal model\n",
    "    grid = grid.fit(X, y)\n",
    "\n",
    "    # Return the optimal model after fitting the data\n",
    "    return grid.best_estimator_"
   ]
  },
  {
   "cell_type": "markdown",
   "metadata": {},
   "source": [
    "### Making Predictions\n",
    "Once a model has been trained on a given set of data, it can now be used to make predictions on new sets of input data. In the case of a *decision tree regressor*, the model has learned *what the best questions to ask about the input data are*, and can respond with a prediction for the **target variable**. You can use these predictions to gain information about data where the value of the target variable is unknown — such as data the model was not trained on."
   ]
  },
  {
   "cell_type": "markdown",
   "metadata": {},
   "source": [
    "### Question 9 - Optimal Model\n",
    "\n",
    "* What maximum depth does the optimal model have? How does this result compare to your guess in **Question 6**?  \n",
    "\n",
    "Run the code block below to fit the decision tree regressor to the training data and produce an optimal model."
   ]
  },
  {
   "cell_type": "code",
   "execution_count": 13,
   "metadata": {
    "scrolled": true
   },
   "outputs": [
    {
     "name": "stdout",
     "output_type": "stream",
     "text": [
      "Parameter 'max_depth' is 4 for the optimal model.\n"
     ]
    }
   ],
   "source": [
    "# Fit the training data to the model using grid search\n",
    "reg = fit_model(X_train, y_train)\n",
    "\n",
    "# Produce the value for 'max_depth'\n",
    "print(\"Parameter 'max_depth' is {} for the optimal model.\".format(reg.get_params()['max_depth']))"
   ]
  },
  {
   "cell_type": "markdown",
   "metadata": {},
   "source": [
    "** Hint: ** The answer comes from the output of the code snipped above.\n",
    "\n",
    "**Answer: ** Parameter 'max_depth' is 4 for the optimal model."
   ]
  },
  {
   "cell_type": "markdown",
   "metadata": {},
   "source": [
    "### Question 10 - Predicting Selling Prices\n",
    "Imagine that you were a real estate agent in the Boston area looking to use this model to help price homes owned by your clients that they wish to sell. You have collected the following information from three of your clients:\n",
    "\n",
    "| Feature | Client 1 | Client 2 | Client 3 |\n",
    "| :---: | :---: | :---: | :---: |\n",
    "| Total number of rooms in home | 5 rooms | 4 rooms | 8 rooms |\n",
    "| Neighborhood poverty level (as %) | 17% | 32% | 3% |\n",
    "| Student-teacher ratio of nearby schools | 15-to-1 | 22-to-1 | 12-to-1 |\n",
    "\n",
    "* What price would you recommend each client sell his/her home at? \n",
    "* Do these prices seem reasonable given the values for the respective features? \n",
    "\n",
    "**Hint:** Use the statistics you calculated in the **Data Exploration** section to help justify your response.  Of the three clients, client 3 has has the biggest house, in the best public school neighborhood with the lowest poverty level; while client 2 has the smallest house, in a neighborhood with a relatively high poverty rate and not the best public schools.\n",
    "\n",
    "Run the code block below to have your optimized model make predictions for each client's home."
   ]
  },
  {
   "cell_type": "code",
   "execution_count": 14,
   "metadata": {},
   "outputs": [
    {
     "name": "stdout",
     "output_type": "stream",
     "text": [
      "Predicted selling price for Client 1's home: $306,337.50\n",
      "Predicted selling price for Client 2's home: $224,342.55\n",
      "Predicted selling price for Client 3's home: $930,490.91\n"
     ]
    }
   ],
   "source": [
    "# Produce a matrix for client data\n",
    "client_data = [[5, 17, 15], # Client 1\n",
    "               [4, 32, 22], # Client 2\n",
    "               [8, 3, 12]]  # Client 3\n",
    "\n",
    "# Show predictions\n",
    "for i, price in enumerate(reg.predict(client_data)):\n",
    "    print(\"Predicted selling price for Client {}'s home: ${:,.2f}\".format(i+1, price))"
   ]
  },
  {
   "cell_type": "markdown",
   "metadata": {},
   "source": [
    "**Answer: **\n",
    "\n",
    "Yes, the predicted house prices looks relavent to the features considered. To assist our hypothesis we can bring some general reasoning by calculating average value of each feature.\n",
    "\n",
    "Mean PRICE: $454343\n",
    "Mean ROOMS: 6.25\n",
    "Mean LSTAT: 12.94\n",
    "Mean PTRATIO 18.51\n",
    "\n",
    "We can understand on overview any house with more than 6 rooms, LSTAT of 13 percent and PTRATIO of 18.5 has house value approximating to 450K. \n",
    "\n",
    "Client 1: Has 5 bedrooms, slighly greater LSTAT(17) than avgerage LSTAT(~13) and better PTRATIO than average. This house looks to be priced correctly by the model. All the features together impact the pricing of this house and stays proportional to average house price, feature values. \n",
    "\n",
    "Client 2: Has 4 bedrooms which reduces the core house price, high LSTAT ratio which is not good and high PTRATIO which is neigther good too. LSTAT, PTRATIO negatively impacts the house price and hence the lower price justified.\n",
    "\n",
    "Client 3: Has 8 bedrooms with less LSTAT ratio which is good and a better PTRATIO compared to overall average(18.51) which is also good. A big house and with positive features justifies high price."
   ]
  },
  {
   "cell_type": "code",
   "execution_count": 15,
   "metadata": {},
   "outputs": [
    {
     "name": "stdout",
     "output_type": "stream",
     "text": [
      "mean rooms: 6.24028834356\n",
      "mean LSTAT: 12.9396319018\n",
      "mean PTRATIO 18.5165644172\n"
     ]
    }
   ],
   "source": [
    "mean_rooms = np.mean(np.array(data['RM']))\n",
    "print (\"mean rooms:\", mean_rooms)\n",
    "\n",
    "mean_lstat = np.mean(np.array(data['LSTAT']))\n",
    "print (\"mean LSTAT:\", mean_lstat)\n",
    "\n",
    "mean_ptratio = np.mean(np.array(data['PTRATIO']))\n",
    "print (\"mean PTRATIO\", mean_ptratio)"
   ]
  },
  {
   "cell_type": "markdown",
   "metadata": {},
   "source": [
    "### Sensitivity\n",
    "An optimal model is not necessarily a robust model. Sometimes, a model is either too complex or too simple to sufficiently generalize to new data. Sometimes, a model could use a learning algorithm that is not appropriate for the structure of the data given. Other times, the data itself could be too noisy or contain too few samples to allow a model to adequately capture the target variable — i.e., the model is underfitted. \n",
    "\n",
    "**Run the code cell below to run the `fit_model` function ten times with different training and testing sets to see how the prediction for a specific client changes with respect to the data it's trained on.**"
   ]
  },
  {
   "cell_type": "code",
   "execution_count": 16,
   "metadata": {},
   "outputs": [
    {
     "name": "stdout",
     "output_type": "stream",
     "text": [
      "Trial 1: $391,183.33\n",
      "Trial 2: $419,700.00\n",
      "Trial 3: $415,800.00\n",
      "Trial 4: $420,622.22\n",
      "Trial 5: $418,377.27\n",
      "Trial 6: $411,931.58\n",
      "Trial 7: $399,663.16\n",
      "Trial 8: $407,232.00\n",
      "Trial 9: $351,577.61\n",
      "Trial 10: $413,700.00\n",
      "\n",
      "Range in prices: $69,044.61\n"
     ]
    }
   ],
   "source": [
    "vs.PredictTrials(features, prices, fit_model, client_data)"
   ]
  },
  {
   "cell_type": "markdown",
   "metadata": {},
   "source": [
    "### Question 11 - Applicability\n",
    "\n",
    "* In a few sentences, discuss whether the constructed model should or should not be used in a real-world setting.  \n",
    "\n",
    "**Hint:** Take a look at the range in prices as calculated in the code snippet above. Some questions to answering:\n",
    "- How relevant today is data that was collected from 1978? How important is inflation?\n",
    "- Are the features present in the data sufficient to describe a home? Do you think factors like quality of apppliances in the home, square feet of the plot area, presence of pool or not etc should factor in?\n",
    "- Is the model robust enough to make consistent predictions?\n",
    "- Would data collected in an urban city like Boston be applicable in a rural city?\n",
    "- Is it fair to judge the price of an individual home based on the characteristics of the entire neighborhood?"
   ]
  },
  {
   "cell_type": "markdown",
   "metadata": {},
   "source": [
    "**Answer: **\n",
    "\n",
    "Yes, the model can be used then in 1978 real-world setting, but not now.  \n",
    "\n",
    "The predicted price range looks high(~$70K) which is a big difference and may not recommended to use in real-world scenario. But it is an encouraging attempt to help estimating the house price given the features. As more data/house price data is added in the year the model also improves. \n",
    "\n",
    "Adding more features like square feet area, other facilities like appliances, pool and the area crime rate also helps improving the accuracy. Also, with more data and features we can consider important features and discard features which does not support the prediction process. Always few factors like characteristics of entire neighborhood may or may not help the argument if the house is in a remote location etc. \n",
    "\n",
    "I think the Square foot area will give much more granualar control in estimating the house price.\n",
    "\n",
    "\n",
    "\n",
    "- Question: How relevant today is data that was collected from 1978? How important is inflation?\n",
    "- Answer: It is completely irrelavent today to use data from 1978 as inflation has riased the current house prices.\n",
    "<br><br>\n",
    "- Question: Are the features present in the data sufficient to describe a home? Do you think factors like quality of apppliances in the home, square feet of the plot area, presence of pool or not etc should factor in?\n",
    "- Answer: The features included are not sufficient to describe a home. As homes have many features internally and externally many other features can be added to predict price.\n",
    "<br><br>\n",
    "- Question: Is the model robust enough to make consistent predictions?\n",
    "- Answer: No, more well defined features would improve consistency and accuracy.\n",
    "<br><br>\n",
    "- Question: Would data collected in an urban city like Boston be applicable in a rural city?\n",
    "- Answer: No, prices are effected by location and geography.\n",
    "<br><br>\n",
    "- Question: Is it fair to judge the price of an individual home based on the characteristics of the entire neighborhood?\n",
    "- Answer: Yes, people consider buying a good neighborhood. So, it can help factoring the price of house."
   ]
  },
  {
   "cell_type": "markdown",
   "metadata": {},
   "source": [
    "> **Note**: Once you have completed all of the code implementations and successfully answered each question above, you may finalize your work by exporting the iPython Notebook as an HTML document. You can do this by using the menu above and navigating to  \n",
    "**File -> Download as -> HTML (.html)**. Include the finished document along with this notebook as your submission."
   ]
  }
 ],
 "metadata": {
  "anaconda-cloud": {},
  "kernelspec": {
   "display_name": "Python 3",
   "language": "python",
   "name": "python3"
  },
  "language_info": {
   "codemirror_mode": {
    "name": "ipython",
    "version": 3
   },
   "file_extension": ".py",
   "mimetype": "text/x-python",
   "name": "python",
   "nbconvert_exporter": "python",
   "pygments_lexer": "ipython3",
<<<<<<< HEAD
   "version": "3.6.6"
=======
   "version": "3.6.2"
>>>>>>> 4738f06d4de65291cd05d8d9784b5ff8e236b9b3
  }
 },
 "nbformat": 4,
 "nbformat_minor": 1
}
